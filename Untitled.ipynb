{
 "cells": [
  {
   "cell_type": "code",
   "execution_count": 2,
   "id": "18191d61",
   "metadata": {},
   "outputs": [
    {
     "name": "stdout",
     "output_type": "stream",
     "text": [
      " Nhập số tiền USD bạn cần đổi: 100\n",
      "Số tiền đổi được là: 2309000 VND\n"
     ]
    }
   ],
   "source": [
    "sotien= int(input(\" Nhập số tiền USD bạn cần đổi: \"))\n",
    "tygia= 23090\n",
    "print(\"Số tiền đổi được là:\",sotien*tygia ,\"VND\")"
   ]
  },
  {
   "cell_type": "code",
   "execution_count": null,
   "id": "b4df2070",
   "metadata": {},
   "outputs": [],
   "source": []
  }
 ],
 "metadata": {
  "kernelspec": {
   "display_name": "Python 3 (ipykernel)",
   "language": "python",
   "name": "python3"
  },
  "language_info": {
   "codemirror_mode": {
    "name": "ipython",
    "version": 3
   },
   "file_extension": ".py",
   "mimetype": "text/x-python",
   "name": "python",
   "nbconvert_exporter": "python",
   "pygments_lexer": "ipython3",
   "version": "3.9.12"
  }
 },
 "nbformat": 4,
 "nbformat_minor": 5
}
